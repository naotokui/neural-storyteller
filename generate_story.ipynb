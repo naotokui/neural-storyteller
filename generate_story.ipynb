{
 "cells": [
  {
   "cell_type": "markdown",
   "metadata": {},
   "source": [
    "You need to download various components\n",
    "\n",
    "     >wget http://www.cs.toronto.edu/~rkiros/neural_storyteller.zip\n",
    "     >wget https://s3.amazonaws.com/lasagne/recipes/pretrained/imagenet/vgg19.pkl -P ./models/\n",
    "     \n",
    "    >wget http://www.cs.toronto.edu/~rkiros/models/dictionary.txt -P ./skip-thoughts-models/\n",
    "    >wget http://www.cs.toronto.edu/~rkiros/models/utable.npy -P ./skip-thoughts-models/\n",
    "    > wget http://www.cs.toronto.edu/~rkiros/models/btable.npy -P ./skip-thoughts-models/\n",
    "    > wget http://www.cs.toronto.edu/~rkiros/models/uni_skip.npz -P ./skip-thoughts-models/\n",
    "    > wget http://www.cs.toronto.edu/~rkiros/models/uni_skip.npz.pkl -P ./skip-thoughts-models/\n",
    "    wget http://www.cs.toronto.edu/~rkiros/models/bi_skip.npz -P ./skip-thoughts-models/\n",
    "    wget http://www.cs.toronto.edu/~rkiros/models/bi_skip.npz.pkl -P ./skip-thoughts-models/\n",
    "    "
   ]
  },
  {
   "cell_type": "code",
   "execution_count": 12,
   "metadata": {
    "collapsed": false,
    "scrolled": true
   },
   "outputs": [
    {
     "name": "stdout",
     "output_type": "stream",
     "text": [
      "The autoreload extension is already loaded. To reload it, use:\n",
      "  %reload_ext autoreload\n",
      "neural_storyteller/romance.npz\n",
      "Loading skip-thoughts...\n",
      "Loading decoder...\n",
      "Loading image-sentence embedding...\n",
      "Loading and initializing ConvNet...\n",
      "Loading parameters...\n",
      "Loading captions...\n",
      "Embedding captions...\n",
      "Loading biases...\n"
     ]
    }
   ],
   "source": [
    "# -*- coding: utf-8 -*-\n",
    "\n",
    "\n",
    "\n",
    "%load_ext autoreload\n",
    "%autoreload 2\n",
    "\n",
    "import os\n",
    "os.environ['THEANO_FLAGS'] = \"device=gpu2,floatX=float32,dnn.enabled=True\" \n",
    "\n",
    "import generate\n",
    "import config\n",
    "reload(config)\n",
    "\n",
    "# SIND story database\n",
    "#config.paths['captions'] = 'neural_storyteller/train.story-in-sequence.csv'\n",
    "\n",
    "z = generate.load_all(config)"
   ]
  },
  {
   "cell_type": "code",
   "execution_count": 14,
   "metadata": {
    "collapsed": false
   },
   "outputs": [
    {
     "name": "stderr",
     "output_type": "stream",
     "text": [
      "/usr/local/lib/python2.7/dist-packages/matplotlib/font_manager.py:273: UserWarning: Matplotlib is building the font cache using fc-list. This may take a moment.\n",
      "  warnings.warn('Matplotlib is building the font cache using fc-list. This may take a moment.')\n"
     ]
    }
   ],
   "source": [
    "# UTILITIES\n",
    "import matplotlib.pyplot as plt\n",
    "import numpy as np\n",
    "import urllib, cStringIO\n",
    "import PIL.Image\n",
    "from cStringIO import StringIO\n",
    "from IPython.display import clear_output, Image, display\n",
    "from scipy.misc import imresize\n",
    "\n",
    "def to_np(imgpath):\n",
    "    img = np.float32(PIL.Image.open(imgpath))\n",
    "    if len(img.shape) == 2:\n",
    "        img = img.reshape(img.shape[0], img.shape[1], 1)\n",
    "        img = np.repeat(img, 3, 2)\n",
    "    return img\n",
    "\n",
    "def img_resize(img, size=(224, 224)):\n",
    "    a = imresize(img, size)\n",
    "    return a.astype(np.float32) # force to be a float image\n",
    "\n",
    "def show_img_array(a, fmt='jpeg', resize=True):\n",
    "    if resize:\n",
    "        a = img_resize(a)\n",
    "    a = np.uint8(np.clip(a, 0, 255))\n",
    "    f = StringIO()\n",
    "    PIL.Image.fromarray(a).save(f, fmt)\n",
    "    display(Image(data=f.getvalue()))"
   ]
  },
  {
   "cell_type": "code",
   "execution_count": null,
   "metadata": {
    "collapsed": false
   },
   "outputs": [
    {
     "data": {
      "image/jpeg": "[encoded data removed]",
      "text/plain": [
       "<IPython.core.display.Image object>"
      ]
     },
     "metadata": {},
     "output_type": "display_data"
    },
    {
     "name": "stdout",
     "output_type": "stream",
     "text": [
      "NEAREST-CAPTIONS: \n",
      "A surfer is silhouetted against a sunset at the beach .\n",
      "a person rides a horse at sunset along the beach\n",
      "A person rides a horse on a beach at sunset .\n",
      "A surfer looks at the ocean while the sun is setting .\n",
      "people look out at the ocean as some birds fly over\n",
      "\n"
     ]
    }
   ],
   "source": [
    "imgpath =  './images/ex1.jpg'\n",
    "show_img_array(to_np(imgpath))\n",
    "generate.story(z, './images/ex1.jpg')"
   ]
  },
  {
   "cell_type": "code",
   "execution_count": null,
   "metadata": {
    "collapsed": true
   },
   "outputs": [],
   "source": []
  }
 ],
 "metadata": {
  "kernelspec": {
   "display_name": "Python 2",
   "language": "python",
   "name": "python2"
  },
  "language_info": {
   "codemirror_mode": {
    "name": "ipython",
    "version": 2
   },
   "file_extension": ".py",
   "mimetype": "text/x-python",
   "name": "python",
   "nbconvert_exporter": "python",
   "pygments_lexer": "ipython2",
   "version": "2.7.6"
  }
 },
 "nbformat": 4,
 "nbformat_minor": 0
}
