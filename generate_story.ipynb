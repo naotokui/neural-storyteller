{
 "cells": [
  {
   "cell_type": "markdown",
   "metadata": {},
   "source": [
    "You need to download various components\n",
    "\n",
    "     >wget http://www.cs.toronto.edu/~rkiros/neural_storyteller.zip\n",
    "     >wget https://s3.amazonaws.com/lasagne/recipes/pretrained/imagenet/vgg19.pkl -P ./models/\n",
    "     \n",
    "    >wget http://www.cs.toronto.edu/~rkiros/models/dictionary.txt -P ./skip-thoughts-models/\n",
    "    >wget http://www.cs.toronto.edu/~rkiros/models/utable.npy -P ./skip-thoughts-models/\n",
    "    > wget http://www.cs.toronto.edu/~rkiros/models/btable.npy -P ./skip-thoughts-models/\n",
    "    > wget http://www.cs.toronto.edu/~rkiros/models/uni_skip.npz -P ./skip-thoughts-models/\n",
    "    > wget http://www.cs.toronto.edu/~rkiros/models/uni_skip.npz.pkl -P ./skip-thoughts-models/\n",
    "    wget http://www.cs.toronto.edu/~rkiros/models/bi_skip.npz -P ./skip-thoughts-models/\n",
    "    wget http://www.cs.toronto.edu/~rkiros/models/bi_skip.npz.pkl -P ./skip-thoughts-models/\n",
    "    "
   ]
  },
  {
   "cell_type": "code",
   "execution_count": 12,
   "metadata": {
    "collapsed": false,
    "scrolled": true
   },
   "outputs": [
    {
     "name": "stdout",
     "output_type": "stream",
     "text": [
      "The autoreload extension is already loaded. To reload it, use:\n",
      "  %reload_ext autoreload\n",
      "neural_storyteller/romance.npz\n",
      "Loading skip-thoughts...\n",
      "Loading decoder...\n",
      "Loading image-sentence embedding...\n",
      "Loading and initializing ConvNet...\n",
      "Loading parameters...\n",
      "Loading captions...\n",
      "Embedding captions...\n",
      "Loading biases...\n"
     ]
    }
   ],
   "source": [
    "# -*- coding: utf-8 -*-\n",
    "\n",
    "\n",
    "\n",
    "%load_ext autoreload\n",
    "%autoreload 2\n",
    "\n",
    "import os\n",
    "os.environ['THEANO_FLAGS'] = \"device=gpu2,floatX=float32,dnn.enabled=True\" \n",
    "\n",
    "import generate\n",
    "import config\n",
    "reload(config)\n",
    "\n",
    "# SIND story database\n",
    "#config.paths['captions'] = 'neural_storyteller/train.story-in-sequence.csv'\n",
    "\n",
    "z = generate.load_all(config)"
   ]
  },
  {
   "cell_type": "code",
   "execution_count": 13,
   "metadata": {
    "collapsed": false
   },
   "outputs": [
    {
     "name": "stdout",
     "output_type": "stream",
     "text": [
      "NEAREST-CAPTIONS: \n",
      "A surfer is silhouetted against a sunset at the beach .\n",
      "a person rides a horse at sunset along the beach\n",
      "A person rides a horse on a beach at sunset .\n",
      "A surfer looks at the ocean while the sun is setting .\n",
      "people look out at the ocean as some birds fly over\n",
      "\n",
      "OUTPUT: \n",
      "You re the only person on the beach right now , you know , I do n't think I will ever fall in love with you , and when the sea breeze hits me , I thought , Hey\n"
     ]
    }
   ],
   "source": [
    "generate.story(z, './images/ex1.jpg')"
   ]
  },
  {
   "cell_type": "code",
   "execution_count": 14,
   "metadata": {
    "collapsed": false,
    "scrolled": false
   },
   "outputs": [
    {
     "name": "stdout",
     "output_type": "stream",
     "text": [
      "NEAREST-CAPTIONS: \n",
      "Woman standing in front of a swimming pool with parrots on her shoulder .\n",
      "A photo take though glass of a polar pear diving under water .\n",
      "Cat laying in a Nestle water bottle wrapper .\n",
      "A couple of people standing inside of a swimming pool .\n",
      "A woman drinking water from a water bottle .\n",
      "\n",
      "output costs -----\n",
      "6 Mother Night , I 'm looking at you right now , I do n't know what to do with it , because of me drinking water from under water , I thought , Oh my God\n",
      "-----\n",
      "OUTPUT>>>>>>>>>>\n",
      "Mother Night , I 'm looking at you right now , I do n't know what to do with it , because of me , I thought , You drink water all night\n",
      "<<<<<<<<<<OUTPUT\n",
      "NEAREST-CAPTIONS: \n",
      "Woman standing in front of a swimming pool with parrots on her shoulder .\n",
      "A photo take though glass of a polar pear diving under water .\n",
      "Cat laying in a Nestle water bottle wrapper .\n",
      "A couple of people standing inside of a swimming pool .\n",
      "A woman drinking water from a water bottle .\n",
      "\n",
      "output costs -----\n",
      "37 It feels good to see Maya standing in the water bottle , asking me what she 's doing , I promise you , of course , I 've never been with you , I thought you drowned out all my bottled water\n",
      "-----\n",
      "OUTPUT>>>>>>>>>>\n",
      "It feels good to see Maya standing in the water bottle , asking me what she 's doing , I promise you , of course , you 're right , I thought I d drowned out\n",
      "<<<<<<<<<<OUTPUT\n",
      "NEAREST-CAPTIONS: \n",
      "Woman standing in front of a swimming pool with parrots on her shoulder .\n",
      "A photo take though glass of a polar pear diving under water .\n",
      "Cat laying in a Nestle water bottle wrapper .\n",
      "A couple of people standing inside of a swimming pool .\n",
      "A woman drinking water from a water bottle .\n",
      "\n",
      "output costs -----\n",
      "39 We can count in the glass of water , girl , since you do n't really want me to come out of your girlfriend 's life , she said , sucking in a deep breath , I thought I 'd taste you\n",
      "-----\n",
      "OUTPUT>>>>>>>>>>\n",
      "We can count in the glass of water , girlfriend , since you do n't lie to me , she said , looking out of my mouth , I thought : Sweet water\n",
      "<<<<<<<<<<OUTPUT\n",
      "NEAREST-CAPTIONS: \n",
      "Woman standing in front of a swimming pool with parrots on her shoulder .\n",
      "A photo take though glass of a polar pear diving under water .\n",
      "Cat laying in a Nestle water bottle wrapper .\n",
      "A couple of people standing inside of a swimming pool .\n",
      "A woman drinking water from a water bottle .\n",
      "\n",
      "output costs -----\n",
      "26 No one can live with looking at you , girl , right now , I 'm thinking of taking it away from her , drink me water , because I do n't know what Sweet Dreams\n",
      "-----\n",
      "OUTPUT>>>>>>>>>>\n",
      "No one can live with looking at you , girl , I 'm sorry , because of the water spilling from me , I thought , You 're absolutely no drink\n",
      "<<<<<<<<<<OUTPUT\n"
     ]
    }
   ],
   "source": [
    "reload(generate)\n",
    "import search\n",
    "reload(search)\n",
    "import decoder\n",
    "reload(decoder)\n",
    "imagepath = './images/coke/01.jpg'\n",
    "generate.story(z, imagepath, k=5, bw=40)\n",
    "\n",
    "generate.story(z, imagepath, k=5, bw=40, begin_with=\"It feels good\")\n",
    "generate.story(z, imagepath, k=5, bw=40, begin_with=\"We can\")\n",
    "generate.story(z, imagepath, k=5, bw=40, begin_with=\"No one can\")"
   ]
  },
  {
   "cell_type": "code",
   "execution_count": null,
   "metadata": {
    "collapsed": true
   },
   "outputs": [],
   "source": []
  }
 ],
 "metadata": {
  "kernelspec": {
   "display_name": "Python 2",
   "language": "python",
   "name": "python2"
  },
  "language_info": {
   "codemirror_mode": {
    "name": "ipython",
    "version": 2
   },
   "file_extension": ".py",
   "mimetype": "text/x-python",
   "name": "python",
   "nbconvert_exporter": "python",
   "pygments_lexer": "ipython2",
   "version": "2.7.6"
  }
 },
 "nbformat": 4,
 "nbformat_minor": 0
}
